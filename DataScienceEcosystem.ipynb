{
 "cells": [
  {
   "cell_type": "markdown",
   "id": "7d84f4b7-2299-4701-be53-730d02f42680",
   "metadata": {
    "tags": []
   },
   "source": [
    "# Data Science Tools and Ecosystem"
   ]
  },
  {
   "cell_type": "markdown",
   "id": "561bd9fe-8d57-439d-bc2b-b1f6549d8c07",
   "metadata": {},
   "source": [
    "#### In this notebook, Data Science Tools and Ecosystem are summarized."
   ]
  },
  {
   "cell_type": "markdown",
   "id": "74eacf49-6962-4e38-8112-d3dc1d746a39",
   "metadata": {},
   "source": [
    "```markdown\n",
    "Some of the popular languages that Data Scientists use are:\n",
    "\n",
    "1. Python\n",
    "2. R\n",
    "3. SQL\n",
    "4. Julia\n",
    "5. Scala\n",
    "```"
   ]
  },
  {
   "cell_type": "markdown",
   "id": "449b43ea-bb63-4722-8843-31475bc938b1",
   "metadata": {
    "tags": []
   },
   "source": [
    "```markdown\n",
    "Some of the commonly used libraries used by Data Scientists include:\n",
    "\n",
    "1. NumPy\n",
    "2. Pandas\n",
    "3. Matplotlib\n",
    "4. Scikit-learn\n",
    "5. TensorFlow\n",
    "```"
   ]
  },
  {
   "cell_type": "markdown",
   "id": "9c058777-237d-4ca9-9f3a-841da237ffe4",
   "metadata": {},
   "source": [
    "| Data Science Tools |\n",
    "|--------------------|\n",
    "| Jupyter Notebook   |\n",
    "| RStudio            |\n",
    "| Visual Studio Code |\n"
   ]
  },
  {
   "cell_type": "markdown",
   "id": "fccc7ad0-9c6e-4fc1-b7d3-46c713463411",
   "metadata": {},
   "source": [
    "### Below are a few examples of evaluating arithmetic expressions in Python."
   ]
  },
  {
   "cell_type": "code",
   "execution_count": 6,
   "id": "3b33581e-4796-4373-9e50-f12407692349",
   "metadata": {
    "tags": []
   },
   "outputs": [
    {
     "name": "stdout",
     "output_type": "stream",
     "text": [
      "17\n"
     ]
    }
   ],
   "source": [
    "result = (3 * 4) + 5\n",
    "print(result)\n"
   ]
  },
  {
   "cell_type": "code",
   "execution_count": 7,
   "id": "b4d1b3ef-2871-4664-9f02-32defaaf81be",
   "metadata": {
    "tags": []
   },
   "outputs": [
    {
     "name": "stdout",
     "output_type": "stream",
     "text": [
      "3.3333333333333335\n"
     ]
    }
   ],
   "source": [
    "minutes = 200\n",
    "hours = minutes / 60\n",
    "print(hours)"
   ]
  },
  {
   "cell_type": "markdown",
   "id": "3cd81cd1-213c-45dd-8982-c661f693fe6b",
   "metadata": {},
   "source": [
    "**Objectives:**\n",
    "\n",
    "- List popular languages for Data Science.\n",
    "- Introduce commonly used libraries in Data Science.\n",
    "- Present open-source development environments for Data Science.\n",
    "- Demonstrate evaluation of arithmetic expressions in Python.\n",
    "- Illustrate conversion of minutes to hours in Python.\n"
   ]
  },
  {
   "cell_type": "markdown",
   "id": "fd793a12-fba6-4b6f-952e-f3927ec13fd3",
   "metadata": {},
   "source": [
    "## Author\n",
    "Punrong"
   ]
  },
  {
   "cell_type": "code",
   "execution_count": null,
   "id": "a770520e-fe91-41ea-b1ba-79a9e13f558d",
   "metadata": {},
   "outputs": [],
   "source": []
  }
 ],
 "metadata": {
  "kernelspec": {
   "display_name": "Python",
   "language": "python",
   "name": "conda-env-python-py"
  },
  "language_info": {
   "codemirror_mode": {
    "name": "ipython",
    "version": 3
   },
   "file_extension": ".py",
   "mimetype": "text/x-python",
   "name": "python",
   "nbconvert_exporter": "python",
   "pygments_lexer": "ipython3",
   "version": "3.7.12"
  }
 },
 "nbformat": 4,
 "nbformat_minor": 5
}
